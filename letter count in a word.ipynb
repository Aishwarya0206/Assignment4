{
 "cells": [
  {
   "cell_type": "code",
   "execution_count": 107,
   "metadata": {},
   "outputs": [
    {
     "name": "stdout",
     "output_type": "stream",
     "text": [
      "Enter a string: mississippi\n",
      "i = 4\n",
      "s = 4\n",
      "p = 2\n",
      "m = 1\n"
     ]
    }
   ],
   "source": [
    "def count_letters(word):\n",
    "    '''Function to count the letters in a word \n",
    "    and arrange them in descending order with respect to its value.'''\n",
    "    dic = {}\n",
    "    x = word.lower()\n",
    "    for letter in x:\n",
    "        dic[letter] = word.count(letter)\n",
    "    [print(key,'=', value) for (key, value) in sorted(dic.items(), key=lambda y: y[1], reverse=True)]\n",
    "#Get a word from the user\n",
    "string = input(\"Enter a string: \")\n",
    "#Making a call to the function by passing the user input parameter\n",
    "count_letters(string)"
   ]
  },
  {
   "cell_type": "code",
   "execution_count": null,
   "metadata": {},
   "outputs": [],
   "source": []
  },
  {
   "cell_type": "code",
   "execution_count": null,
   "metadata": {},
   "outputs": [],
   "source": []
  },
  {
   "cell_type": "code",
   "execution_count": null,
   "metadata": {},
   "outputs": [],
   "source": []
  },
  {
   "cell_type": "code",
   "execution_count": null,
   "metadata": {},
   "outputs": [],
   "source": []
  }
 ],
 "metadata": {
  "kernelspec": {
   "display_name": "Python 3",
   "language": "python",
   "name": "python3"
  },
  "language_info": {
   "codemirror_mode": {
    "name": "ipython",
    "version": 3
   },
   "file_extension": ".py",
   "mimetype": "text/x-python",
   "name": "python",
   "nbconvert_exporter": "python",
   "pygments_lexer": "ipython3",
   "version": "3.7.6"
  }
 },
 "nbformat": 4,
 "nbformat_minor": 4
}
